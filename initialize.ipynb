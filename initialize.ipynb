from imaging import *

 # pre-start NI-DAQ current input
current_input = CurrentInput(b'cDAQ1Mod4/ai1')
current_input.StartTask()

# Mad City Lab mmp stage
driverPath = 'C:\\Program Files\\Mad City Labs\\MicroDrive\\MicroDrive'
stage = MMPStage(driverPath)